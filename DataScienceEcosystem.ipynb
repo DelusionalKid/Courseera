{
 "cells": [
  {
   "cell_type": "markdown",
   "id": "abcca523-7dc4-45e3-aefb-c126e57c80d3",
   "metadata": {},
   "source": [
    "# Data Science Tools and Ecosystem"
   ]
  },
  {
   "cell_type": "markdown",
   "id": "2279954a-867f-4f9d-8da4-e3c1d81b4e68",
   "metadata": {},
   "source": [
    "In this notebook, Data Science Tools and Ecosystem are summarized."
   ]
  },
  {
   "cell_type": "markdown",
   "id": "a0043beb-0426-41f5-95d3-f0a6eaf7a1fc",
   "metadata": {},
   "source": [
    "**Objectives:**\n",
    "\n",
    "* python\n",
    "* R\n",
    "* SQL\n"
   ]
  },
  {
   "cell_type": "markdown",
   "id": "c5a78666-c3a2-4c26-a1b8-d409cb9e3437",
   "metadata": {
    "tags": []
   },
   "source": [
    "Some of the popular languages that Data Scientists use are:\n",
    "\n",
    "    1. Python\n",
    "    2. R\n",
    "    3. SQL\n",
    "    "
   ]
  },
  {
   "cell_type": "markdown",
   "id": "70d08f1e-f1f2-4969-b9ba-a9ee750ef878",
   "metadata": {},
   "source": [
    "Some of the commonly used libraries used by Data Scientists include:\n",
    "\n",
    "    1. matplotlib\n",
    "    2. panda\n",
    "    3. numpy\n",
    "    4. pytorch"
   ]
  },
  {
   "cell_type": "markdown",
   "id": "4ace8ece-4c51-4d87-8513-cbe70bb6011b",
   "metadata": {},
   "source": [
    "|data science tools|\n",
    "|----------|\n",
    "|Power bi|\n",
    "|R|\n",
    "|Jupyter lab|"
   ]
  },
  {
   "cell_type": "markdown",
   "id": "160d3cc2-ec3a-4e94-9a27-741bc24632a7",
   "metadata": {},
   "source": [
    "### Below are a few examples of evaluating arithmetic expressions in Python"
   ]
  },
  {
   "cell_type": "code",
   "execution_count": 3,
   "id": "d11ce577-c5d4-4c64-9a3d-2a2ab61a1385",
   "metadata": {
    "tags": []
   },
   "outputs": [
    {
     "data": {
      "text/plain": [
       "17"
      ]
     },
     "execution_count": 3,
     "metadata": {},
     "output_type": "execute_result"
    }
   ],
   "source": [
    "(3*4)+5\n",
    "#This a simple arithmetic expression to mutiply then add integers."
   ]
  },
  {
   "cell_type": "code",
   "execution_count": 7,
   "id": "62b852b7-d90d-4ee6-87d4-aa73c20c31aa",
   "metadata": {
    "tags": []
   },
   "outputs": [
    {
     "data": {
      "text/plain": [
       "3.3333333333333335"
      ]
     },
     "execution_count": 7,
     "metadata": {},
     "output_type": "execute_result"
    }
   ],
   "source": [
    "200/60 \n",
    "#This will convert 200 minutes to hours by diving by 60."
   ]
  },
  {
   "cell_type": "markdown",
   "id": "aaa8d893-0736-45b4-bfdb-284020c12625",
   "metadata": {},
   "source": [
    "##Author\n",
    "\n",
    "Vishal"
   ]
  },
  {
   "cell_type": "code",
   "execution_count": null,
   "id": "71b40927-04b3-4c6f-bf32-0b586bb20589",
   "metadata": {},
   "outputs": [],
   "source": []
  }
 ],
 "metadata": {
  "kernelspec": {
   "display_name": "Python",
   "language": "python",
   "name": "conda-env-python-py"
  },
  "language_info": {
   "codemirror_mode": {
    "name": "ipython",
    "version": 3
   },
   "file_extension": ".py",
   "mimetype": "text/x-python",
   "name": "python",
   "nbconvert_exporter": "python",
   "pygments_lexer": "ipython3",
   "version": "3.7.12"
  }
 },
 "nbformat": 4,
 "nbformat_minor": 5
}
